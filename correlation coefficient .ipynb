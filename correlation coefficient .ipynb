{
 "cells": [
  {
   "cell_type": "markdown",
   "metadata": {},
   "source": [
    "# Import Libraries "
   ]
  },
  {
   "cell_type": "code",
   "execution_count": 2,
   "metadata": {},
   "outputs": [],
   "source": [
    "import numpy as np\n",
    "from matplotlib import pyplot as plt\n",
    "import pandas as pd"
   ]
  },
  {
   "cell_type": "markdown",
   "metadata": {},
   "source": [
    "# Correlation Coefficient"
   ]
  },
  {
   "cell_type": "code",
   "execution_count": 32,
   "metadata": {},
   "outputs": [
    {
     "name": "stdout",
     "output_type": "stream",
     "text": [
      "Correlation Coefficient:  -0.9436685649086114\n",
      "formula: y= 19.18471337579618 +  ( -1.4968152866242037 * X ) \n",
      "\n",
      "\n"
     ]
    },
    {
     "data": {
      "image/png": "[encoded data removed]",
      "text/plain": [
       "<Figure size 432x288 with 1 Axes>"
      ]
     },
     "metadata": {},
     "output_type": "display_data"
    }
   ],
   "source": [
    "x=[5,10,2,0,7]\n",
    "y=[10,3,15,20,12]\n",
    "Sx=np.std(x)\n",
    "Sy=np.std(y)\n",
    "cor=np.corrcoef(x, y)\n",
    "r=cor[0][1]\n",
    "b=(r*Sy)/Sx\n",
    "x̅=np.mean(x)\n",
    "ȳ=np.mean(y)\n",
    "a=ȳ-(b*x̅)\n",
    "\n",
    "print(\"Correlation Coefficient: \", r)\n",
    "print(\"formula: y= {} +  ( {} * X ) \" .format(str(a),str(b)) )\n",
    "print(\"\\n\")\n",
    "\n",
    "def lineY(x):\n",
    "    yList=[]\n",
    "    for i in range(len(x)):\n",
    "        y= a + (b * i) \n",
    "        yList.append(y)\n",
    "    \n",
    "    return  yList\n",
    "\n",
    "df=pd.DataFrame({'x': range(10) , 'y': lineY(range(10)) }) \n",
    "plt.plot(x,y, marker=\".\",linestyle=\"none\", color=\"orange\" , markersize=15)\n",
    "plt.plot(\"y\" , data=df ,marker='o', markerfacecolor='blue', markersize=10, color='skyblue', linewidth=4)\n",
    "plt.title(\" Relation\")\n",
    "plt.xlabel(\"x\")\n",
    "plt.ylabel(\"y\")\n",
    "plt.show()"
   ]
  },
  {
   "cell_type": "markdown",
   "metadata": {},
   "source": [
    "# Make Predictions"
   ]
  },
  {
   "cell_type": "code",
   "execution_count": 31,
   "metadata": {},
   "outputs": [
    {
     "name": "stdout",
     "output_type": "stream",
     "text": [
      "Enter Value of number to predict:-5\n",
      "prediction to value -5 is: 26.668789808917197\n"
     ]
    }
   ],
   "source": [
    "number=int(input(\"Enter Value of number to predict:\"))\n",
    "prediction= a +  (b * number ) \n",
    "\n",
    "print(\"prediction to value {} is: {}\".format(number,prediction))"
   ]
  }
 ],
 "metadata": {
  "kernelspec": {
   "display_name": "Python 3",
   "language": "python",
   "name": "python3"
  },
  "language_info": {
   "codemirror_mode": {
    "name": "ipython",
    "version": 3
   },
   "file_extension": ".py",
   "mimetype": "text/x-python",
   "name": "python",
   "nbconvert_exporter": "python",
   "pygments_lexer": "ipython3",
   "version": "3.6.5"
  }
 },
 "nbformat": 4,
 "nbformat_minor": 2
}
